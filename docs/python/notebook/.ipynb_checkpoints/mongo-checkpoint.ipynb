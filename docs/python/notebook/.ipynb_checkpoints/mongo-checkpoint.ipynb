{
 "cells": [
  {
   "cell_type": "code",
   "execution_count": 3,
   "id": "4684bd80",
   "metadata": {},
   "outputs": [],
   "source": [
    "import json\n",
    "from pymongo import MongoClient"
   ]
  },
  {
   "cell_type": "code",
   "execution_count": 5,
   "id": "c7fc45bc",
   "metadata": {},
   "outputs": [
    {
     "name": "stdout",
     "output_type": "stream",
     "text": [
      "{'_id': ObjectId('63bfa529b36ecb41def36a80'), 'name': 'x6gH', 'phone': 'wHR7', 'password': 'BIE6i5UPdh5mSqpX', '_class': 'x.y.z.privider.entity.User'}\n"
     ]
    }
   ],
   "source": [
    "client = MongoClient('localhost', 27017)\n",
    "db = client['test']\n",
    "collection = db['user']\n",
    "\n",
    "query = {\n",
    "    \"name\": \"x6gH\"\n",
    "    \n",
    "}\n",
    "\n",
    "results = collection.find(query)\n",
    "\n",
    "# 遍历并打印查询结果\n",
    "for document in results:\n",
    "    print(document)\n",
    "\n",
    "# 关闭MongoDB连接\n",
    "client.close()"
   ]
  }
 ],
 "metadata": {
  "kernelspec": {
   "display_name": "Python 3 (ipykernel)",
   "language": "python",
   "name": "python3"
  },
  "language_info": {
   "codemirror_mode": {
    "name": "ipython",
    "version": 3
   },
   "file_extension": ".py",
   "mimetype": "text/x-python",
   "name": "python",
   "nbconvert_exporter": "python",
   "pygments_lexer": "ipython3",
   "version": "3.10.6"
  }
 },
 "nbformat": 4,
 "nbformat_minor": 5
}
