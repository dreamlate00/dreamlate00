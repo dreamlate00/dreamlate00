{
 "cells": [
  {
   "cell_type": "code",
   "execution_count": 6,
   "id": "70e758b2",
   "metadata": {},
   "outputs": [
    {
     "name": "stdout",
     "output_type": "stream",
     "text": [
      "sha1: 943a702d06f34599aee1f8da8ef9f7296031d699\n",
      "sha3_512: 8e47f1185ffd014d238fabd02a1a32defe698cbf38c037a90e3c0a0a32370fb52cbd641250508502295fcabcbf676c09470b27443868c8e5f70e26dc337288af\n",
      "sm3: e3bca101b496880c3653dad85861d0e784b00a8c18f7574472d156060e9096bf\n",
      "sha384: 55bc556b0d2fe0fce582ba5fe07baafff035653638c7ac0d5494c2a64c0bea1cc57331c7c12a45cdbca7f4c34a089eeb\n",
      "Error calculating hash for shake_256: hexdigest() missing required argument 'length' (pos 1)\n",
      "sha256: 315f5bdb76d078c43b8ac0064e4a0164612b1fce77c869345bfc94c75894edd3\n",
      "md5-sha1: 6cd3556deb0da54bca060b4c39479839943a702d06f34599aee1f8da8ef9f7296031d699\n",
      "sha3_224: 6a33e22f20f16642697e8bd549ff7b759252ad56c05a1b0acc31dc69\n",
      "sha3_256: f345a219da005ebe9c1a1eaad97bbf38a10c8473e41d0af7fb617caa0c6aa722\n",
      "mdc2: 04074c0098810ddf408e3040653fb93f\n",
      "sha512_256: 330c723f25267587db0b9f493463e017011239169cb57a6db216c63774367115\n",
      "Error calculating hash for shake_128: hexdigest() missing required argument 'length' (pos 1)\n",
      "sha512: c1527cd893c124773d811911970c8fe6e857d6df5dc9226bd8a160614c0cd963a4ddea2b94bb7d36021ef9d865d5cea294a82dd49a0bb269f51f6e7a57f79421\n",
      "sha512_224: 32620068b859669b45b31008e08b7384649ad2ca3f5163a3a71e5745\n",
      "sha224: 8552d8b7a7dc5476cb9e25dee69a8091290764b7f2a64fe6e78e9568\n",
      "ripemd160: 58262d1fbdbe4530d8865d3518c6d6e41002610f\n",
      "md4: 0abe9ee1f376caa1bcecad9042f16e73\n",
      "whirlpool: a1a8703be5312b139b42eb331aa800ccaca0c34d58c6988e44f45489cfb16beb4b6bf0ce20be1db22a10b0e4bb680480a3d2429e6c483085453c098b65852495\n",
      "md5: 6cd3556deb0da54bca060b4c39479839\n",
      "sha3_384: 6ba9ea268965916f5937228dde678c202f9fe756a87d8b1b7362869583a45901fd1a27289d72fc0e3ff48b1b78827d3a\n",
      "blake2b: a2764d133a16816b5847a737a786f2ece4c148095c5faa73e24b4cc5d666c3e45ec271504e14dc6127ddfce4e144fb23b91a6f7b04b53d695502290722953b0f\n",
      "blake2s: 30d8777f0e178582ec8cd2fcdc18af57c828ee2f89e978df52c8e7af078bd5cf\n"
     ]
    }
   ],
   "source": [
    "import hashlib\n",
    "\n",
    "# 待计算哈希的字符串\n",
    "string = \"Hello, world!\"\n",
    "\n",
    "# 获取 hashlib 支持的所有哈希算法\n",
    "hash_algorithms = hashlib.algorithms_available\n",
    "\n",
    "# 遍历所有哈希算法并计算哈希值\n",
    "for algorithm in hash_algorithms:\n",
    "    try:\n",
    "        # 创建哈希对象\n",
    "        hash_object = hashlib.new(algorithm)\n",
    "        \n",
    "        # 更新哈希对象的内容\n",
    "        hash_object.update(string.encode('utf-8'))\n",
    "        \n",
    "        # 获取哈希值的十六进制表示\n",
    "        hash_value = hash_object.hexdigest()\n",
    "        \n",
    "        # 打印哈希算法和对应的哈希值\n",
    "        print(f\"{algorithm}: {hash_value}\")\n",
    "    except Exception as e:\n",
    "        # 发生异常时跳过当前算法并打印错误消息\n",
    "        print(f\"Error calculating hash for {algorithm}: {str(e)}\")\n",
    "        continue"
   ]
  },
  {
   "cell_type": "code",
   "execution_count": 1,
   "id": "04a25ecd",
   "metadata": {},
   "outputs": [
    {
     "name": "stdout",
     "output_type": "stream",
     "text": [
      "3\n",
      "6\n"
     ]
    }
   ],
   "source": [
    "def fn(a,b,c=0):\n",
    "    return a+b+c\n",
    "print(fn(1,2))\n",
    "print(fn(1,2,3))"
   ]
  },
  {
   "cell_type": "code",
   "execution_count": 2,
   "id": "d10969fb",
   "metadata": {},
   "outputs": [
    {
     "name": "stdout",
     "output_type": "stream",
     "text": [
      "Animal speaks\n",
      "Dog barks\n"
     ]
    }
   ],
   "source": [
    "class Animal:\n",
    "    def speak(self):\n",
    "        print(\"Animal speaks\")\n",
    "\n",
    "class Dog(Animal):\n",
    "    def speak(self):\n",
    "        print(\"Dog barks\")\n",
    "\n",
    "animal = Animal()\n",
    "animal.speak()    # 输出: \"Animal speaks\"\n",
    "\n",
    "dog = Dog()\n",
    "dog.speak()       # 输出: \"Dog barks\""
   ]
  }
 ],
 "metadata": {
  "kernelspec": {
   "display_name": "Python 3 (ipykernel)",
   "language": "python",
   "name": "python3"
  },
  "language_info": {
   "codemirror_mode": {
    "name": "ipython",
    "version": 3
   },
   "file_extension": ".py",
   "mimetype": "text/x-python",
   "name": "python",
   "nbconvert_exporter": "python",
   "pygments_lexer": "ipython3",
   "version": "3.10.6"
  }
 },
 "nbformat": 4,
 "nbformat_minor": 5
}
