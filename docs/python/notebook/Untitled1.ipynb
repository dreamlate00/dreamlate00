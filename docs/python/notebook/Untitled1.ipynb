{
 "cells": [
  {
   "cell_type": "code",
   "execution_count": 3,
   "id": "f917d21b",
   "metadata": {},
   "outputs": [],
   "source": [
    "from lxml import etree\n",
    "\n",
    "def match(txt,patern,val):\n",
    "    # 创建 XML 解析器\n",
    "    parser = etree.XMLParser()\n",
    "    tree = etree.fromstring(txt, parser)\n",
    "\n",
    "    # 使用 XPath 查询获取所有书的标题\n",
    "    result  = tree.xpath(patern)\n",
    "    return result == val"
   ]
  },
  {
   "cell_type": "code",
   "execution_count": 9,
   "id": "fb6722eb",
   "metadata": {},
   "outputs": [
    {
     "name": "stdout",
     "output_type": "stream",
     "text": [
      "Harry Potter and the Philosopher's Stone\n",
      "The Great Gatsby\n",
      "To Kill a Mockingbird\n",
      "True\n"
     ]
    }
   ],
   "source": [
    "\n",
    "# XML 示例数据\n",
    "xml_data = \"\"\"\n",
    "<root>\n",
    "    <code>2202</code>\n",
    "    <book>\n",
    "        <title>Harry Potter and the Philosopher's Stone</title>\n",
    "        <author>J.K. Rowling</author>\n",
    "        <year>1997</year>\n",
    "    </book>\n",
    "    <book>\n",
    "        <title>The Great Gatsby</title>\n",
    "        <author>F. Scott Fitzgerald</author>\n",
    "        <year>1925</year>\n",
    "    </book>\n",
    "    <book>\n",
    "        <title>To Kill a Mockingbird</title>\n",
    "        <author>Harper Lee</author>\n",
    "        <year>1960</year>\n",
    "    </book>\n",
    "</root>\n",
    "\"\"\"\n",
    "\n",
    "# 创建 XML 解析器\n",
    "parser = etree.XMLParser()\n",
    "tree = etree.fromstring(xml_data, parser)\n",
    "\n",
    "# 使用 XPath 查询获取所有书的标题\n",
    "titles = tree.xpath(\"//book/title/text()\")\n",
    "\n",
    "# 打印结果\n",
    "for title in titles:\n",
    "    print(title)\n",
    "    \n",
    "print(tree.xpath(\"/root/code/text()='2202'\"))"
   ]
  }
 ],
 "metadata": {
  "kernelspec": {
   "display_name": "Python 3 (ipykernel)",
   "language": "python",
   "name": "python3"
  },
  "language_info": {
   "codemirror_mode": {
    "name": "ipython",
    "version": 3
   },
   "file_extension": ".py",
   "mimetype": "text/x-python",
   "name": "python",
   "nbconvert_exporter": "python",
   "pygments_lexer": "ipython3",
   "version": "3.10.6"
  }
 },
 "nbformat": 4,
 "nbformat_minor": 5
}
