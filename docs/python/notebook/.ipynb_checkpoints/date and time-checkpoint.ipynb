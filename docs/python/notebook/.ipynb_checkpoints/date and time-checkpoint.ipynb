{
 "cells": [
  {
   "cell_type": "markdown",
   "id": "c20acea8",
   "metadata": {},
   "source": [
    "# 计算今天是今年的第几周"
   ]
  },
  {
   "cell_type": "code",
   "execution_count": 1,
   "id": "6d89a4b8",
   "metadata": {},
   "outputs": [
    {
     "name": "stdout",
     "output_type": "stream",
     "text": [
      "36\n"
     ]
    }
   ],
   "source": [
    "import time\n",
    "print(time.strftime(\"%W\"))"
   ]
  },
  {
   "cell_type": "code",
   "execution_count": 3,
   "id": "ce0dc675",
   "metadata": {},
   "outputs": [
    {
     "name": "stdout",
     "output_type": "stream",
     "text": [
      "datetime.IsoCalendarDate(year=2023, week=36, weekday=1)\n",
      "36\n",
      "26\n"
     ]
    }
   ],
   "source": [
    "from datetime import datetime\n",
    "print(datetime.now().isocalendar() )\n",
    "print(datetime.now().isocalendar()[1])\n",
    "print(datetime(2018,6,30).isocalendar()[1])"
   ]
  },
  {
   "cell_type": "code",
   "execution_count": 5,
   "id": "3deff266",
   "metadata": {},
   "outputs": [
    {
     "name": "stdout",
     "output_type": "stream",
     "text": [
      "36.285714285714285\n"
     ]
    }
   ],
   "source": [
    "dt = time.localtime()\n",
    "d = dt[7]\n",
    "print(d/7+1)"
   ]
  }
 ],
 "metadata": {
  "kernelspec": {
   "display_name": "Python 3 (ipykernel)",
   "language": "python",
   "name": "python3"
  },
  "language_info": {
   "codemirror_mode": {
    "name": "ipython",
    "version": 3
   },
   "file_extension": ".py",
   "mimetype": "text/x-python",
   "name": "python",
   "nbconvert_exporter": "python",
   "pygments_lexer": "ipython3",
   "version": "3.10.6"
  }
 },
 "nbformat": 4,
 "nbformat_minor": 5
}
