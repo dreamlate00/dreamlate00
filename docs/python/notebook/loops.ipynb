{
 "cells": [
  {
   "cell_type": "code",
   "execution_count": 5,
   "id": "91ccedc5",
   "metadata": {},
   "outputs": [
    {
     "name": "stdout",
     "output_type": "stream",
     "text": [
      "['a', 'b', 'c']\n",
      "[0, 1, 0]\n",
      "['a', 'b', 'a']\n",
      "[1, 2, 3]\n"
     ]
    }
   ],
   "source": [
    "arr1 = ['a','b','c']\n",
    "arr2 = [0,1,0]\n",
    "map = {'a':1,'b':2,'c':3}\n",
    "print([v for v in arr1])\n",
    "print([v for v in arr2])\n",
    "print([arr1[v] for v in arr2])\n",
    "print([map[v] for v in arr1])"
   ]
  }
 ],
 "metadata": {
  "kernelspec": {
   "display_name": "Python 3 (ipykernel)",
   "language": "python",
   "name": "python3"
  },
  "language_info": {
   "codemirror_mode": {
    "name": "ipython",
    "version": 3
   },
   "file_extension": ".py",
   "mimetype": "text/x-python",
   "name": "python",
   "nbconvert_exporter": "python",
   "pygments_lexer": "ipython3",
   "version": "3.10.6"
  }
 },
 "nbformat": 4,
 "nbformat_minor": 5
}
