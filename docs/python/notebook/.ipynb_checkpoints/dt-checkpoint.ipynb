{
 "cells": [
  {
   "cell_type": "markdown",
   "id": "f4f080c3",
   "metadata": {},
   "source": [
    "## 时间戳和时间互转"
   ]
  },
  {
   "cell_type": "code",
   "execution_count": 2,
   "id": "439a4745",
   "metadata": {},
   "outputs": [],
   "source": [
    "import datetime\n",
    "import time"
   ]
  },
  {
   "cell_type": "code",
   "execution_count": 3,
   "id": "fb2c19fe",
   "metadata": {},
   "outputs": [
    {
     "name": "stdout",
     "output_type": "stream",
     "text": [
      "2020-04-06 00:00:00\n"
     ]
    }
   ],
   "source": [
    "t2 = 1586102400\n",
    "s_l = time.localtime(t2)\n",
    "ts = time.strftime(\"%Y-%m-%d %H:%M:%S\", s_l)\n",
    "print(ts )"
   ]
  },
  {
   "cell_type": "code",
   "execution_count": 3,
   "id": "9a1af59a",
   "metadata": {},
   "outputs": [
    {
     "name": "stdout",
     "output_type": "stream",
     "text": [
      "11\n"
     ]
    }
   ],
   "source": [
    "# 当前日期是今年的第几周\n",
    "print(time.strftime(\"%W\"))"
   ]
  }
 ],
 "metadata": {
  "kernelspec": {
   "display_name": "Python 3 (ipykernel)",
   "language": "python",
   "name": "python3"
  },
  "language_info": {
   "codemirror_mode": {
    "name": "ipython",
    "version": 3
   },
   "file_extension": ".py",
   "mimetype": "text/x-python",
   "name": "python",
   "nbconvert_exporter": "python",
   "pygments_lexer": "ipython3",
   "version": "3.10.6"
  }
 },
 "nbformat": 4,
 "nbformat_minor": 5
}
