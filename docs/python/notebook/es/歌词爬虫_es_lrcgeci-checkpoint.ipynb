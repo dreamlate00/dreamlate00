{
 "cells": [
  {
   "cell_type": "code",
   "execution_count": 8,
   "id": "f48767af",
   "metadata": {},
   "outputs": [],
   "source": [
    "import requests\n",
    "from bs4 import BeautifulSoup\n",
    "import os\n",
    "from elasticsearch import Elasticsearch\n",
    "es = Elasticsearch(['http://localhost:9200'])"
   ]
  },
  {
   "cell_type": "code",
   "execution_count": 18,
   "id": "2973a62d",
   "metadata": {},
   "outputs": [],
   "source": [
    "# 保存到es\n",
    "def save(content,title,singer,href):\n",
    "    es.index(index='lrc', body={\"title\": title, \"singer\": singer,\"content\":content,\"url\":href})"
   ]
  },
  {
   "cell_type": "code",
   "execution_count": 10,
   "id": "871b7e2a",
   "metadata": {},
   "outputs": [],
   "source": [
    "singer = '周杰伦'\n",
    "id = \"63\""
   ]
  },
  {
   "cell_type": "code",
   "execution_count": 11,
   "id": "6bcbc5aa",
   "metadata": {},
   "outputs": [
    {
     "name": "stdout",
     "output_type": "stream",
     "text": [
      "https://www.lrcgeci.com/geshou/63.html\n"
     ]
    }
   ],
   "source": [
    "url = \"https://www.lrcgeci.com/geshou/{}.html\".format(id)\n",
    "print(url)"
   ]
  },
  {
   "cell_type": "code",
   "execution_count": 43,
   "id": "c404d0c6",
   "metadata": {},
   "outputs": [],
   "source": [
    "# get请求\n",
    "def get(url):\n",
    "    payload={}\n",
    "    headers = {\n",
    "  'authority': 'www.lrcgeci.com',\n",
    "  'accept': 'text/html,application/xhtml+xml,application/xml;q=0.9,image/webp,image/apng,*/*;q=0.8,application/signed-exchange;v=b3;q=0.9',\n",
    "  'accept-language': 'zh-CN,zh;q=0.9,en;q=0.8,en-GB;q=0.7,en-US;q=0.6',\n",
    "  'cache-control': 'max-age=0',\n",
    "  'cookie': 'Hm_lvt_794eaf5b0abc63f7cd123e4db91d3d1b=1668742935; Hm_lpvt_794eaf5b0abc63f7cd123e4db91d3d1b=1668753798',\n",
    "  'referer': 'https://www.lrcgeci.com/geshou/284.html',\n",
    "  'sec-ch-ua': '\"Microsoft Edge\";v=\"107\", \"Chromium\";v=\"107\", \"Not=A?Brand\";v=\"24\"',\n",
    "  'sec-ch-ua-mobile': '?0',\n",
    "  'sec-ch-ua-platform': '\"Windows\"',\n",
    "  'sec-fetch-dest': 'document',\n",
    "  'sec-fetch-mode': 'navigate',\n",
    "  'sec-fetch-site': 'same-origin',\n",
    "  'sec-fetch-user': '?1',\n",
    "  'upgrade-insecure-requests': '1',\n",
    "  'user-agent': 'Mozilla/5.0 (Windows NT 10.0; Win64; x64) AppleWebKit/537.36 (KHTML, like Gecko) Chrome/107.0.0.0 Safari/537.36 Edg/107.0.1418.42'\n",
    "}\n",
    "    response = requests.request(\"GET\", url, headers=headers, data=payload)\n",
    "    html = response.text\n",
    "    print(html)\n",
    "    return html"
   ]
  },
  {
   "cell_type": "code",
   "execution_count": 45,
   "id": "9a7723b0",
   "metadata": {},
   "outputs": [],
   "source": [
    "# get方式的文件下载\n",
    "def download(url):\n",
    "    payload={}\n",
    "    headers = {\n",
    "  'authority': 'www.lrcgeci.com',\n",
    "  'accept': 'text/html,application/xhtml+xml,application/xml;q=0.9,image/webp,image/apng,*/*;q=0.8,application/signed-exchange;v=b3;q=0.9',\n",
    "  'accept-language': 'zh-CN,zh;q=0.9,en;q=0.8,en-GB;q=0.7,en-US;q=0.6',\n",
    "  'cache-control': 'max-age=0',\n",
    "  'cookie': 'Hm_lvt_794eaf5b0abc63f7cd123e4db91d3d1b=1668742935; Hm_lpvt_794eaf5b0abc63f7cd123e4db91d3d1b=1668753798',\n",
    "  'referer': 'https://www.lrcgeci.com/geshou/284.html',\n",
    "  'sec-ch-ua': '\"Microsoft Edge\";v=\"107\", \"Chromium\";v=\"107\", \"Not=A?Brand\";v=\"24\"',\n",
    "  'sec-ch-ua-mobile': '?0',\n",
    "  'sec-ch-ua-platform': '\"Windows\"',\n",
    "  'sec-fetch-dest': 'document',\n",
    "  'sec-fetch-mode': 'navigate',\n",
    "  'sec-fetch-site': 'same-origin',\n",
    "  'sec-fetch-user': '?1',\n",
    "  'upgrade-insecure-requests': '1',\n",
    "  'user-agent': 'Mozilla/5.0 (Windows NT 10.0; Win64; x64) AppleWebKit/537.36 (KHTML, like Gecko) Chrome/107.0.0.0 Safari/537.36 Edg/107.0.1418.42'\n",
    "}\n",
    "    response = requests.request(\"GET\", url, headers=headers, data=payload)\n",
    "    content = resp.content\n",
    "    return content"
   ]
  },
  {
   "cell_type": "code",
   "execution_count": null,
   "id": "764a1d35",
   "metadata": {},
   "outputs": [],
   "source": []
  },
  {
   "cell_type": "code",
   "execution_count": 12,
   "id": "01332c48",
   "metadata": {},
   "outputs": [],
   "source": [
    "payload={}\n",
    "headers = {\n",
    "  'authority': 'www.lrcgeci.com',\n",
    "  'accept': 'text/html,application/xhtml+xml,application/xml;q=0.9,image/webp,image/apng,*/*;q=0.8,application/signed-exchange;v=b3;q=0.9',\n",
    "  'accept-language': 'zh-CN,zh;q=0.9,en;q=0.8,en-GB;q=0.7,en-US;q=0.6',\n",
    "  'cache-control': 'max-age=0',\n",
    "  'cookie': 'Hm_lvt_794eaf5b0abc63f7cd123e4db91d3d1b=1668742935; Hm_lpvt_794eaf5b0abc63f7cd123e4db91d3d1b=1668753798',\n",
    "  'referer': 'https://www.lrcgeci.com/geshou/284.html',\n",
    "  'sec-ch-ua': '\"Microsoft Edge\";v=\"107\", \"Chromium\";v=\"107\", \"Not=A?Brand\";v=\"24\"',\n",
    "  'sec-ch-ua-mobile': '?0',\n",
    "  'sec-ch-ua-platform': '\"Windows\"',\n",
    "  'sec-fetch-dest': 'document',\n",
    "  'sec-fetch-mode': 'navigate',\n",
    "  'sec-fetch-site': 'same-origin',\n",
    "  'sec-fetch-user': '?1',\n",
    "  'upgrade-insecure-requests': '1',\n",
    "  'user-agent': 'Mozilla/5.0 (Windows NT 10.0; Win64; x64) AppleWebKit/537.36 (KHTML, like Gecko) Chrome/107.0.0.0 Safari/537.36 Edg/107.0.1418.42'\n",
    "}"
   ]
  },
  {
   "cell_type": "code",
   "execution_count": 13,
   "id": "97f156ec",
   "metadata": {},
   "outputs": [],
   "source": [
    "response = requests.request(\"GET\", url, headers=headers, data=payload)"
   ]
  },
  {
   "cell_type": "code",
   "execution_count": 2,
   "id": "e0def34d",
   "metadata": {},
   "outputs": [],
   "source": [
    "# print(response.text)"
   ]
  },
  {
   "cell_type": "code",
   "execution_count": 14,
   "id": "b9b2637d",
   "metadata": {},
   "outputs": [],
   "source": [
    "html = response.text\n",
    "bf = BeautifulSoup(html,'html.parser')"
   ]
  },
  {
   "cell_type": "code",
   "execution_count": 39,
   "id": "336d6877",
   "metadata": {},
   "outputs": [],
   "source": [
    "arr = bf.select(\".rec ul li a\")\n",
    "links = []"
   ]
  },
  {
   "cell_type": "code",
   "execution_count": 40,
   "id": "79bdcc23",
   "metadata": {},
   "outputs": [],
   "source": [
    "for a in arr:\n",
    "    href = 'https://www.lrcgeci.com/lrcdown'+a['href'][4:]\n",
    "    title = a.get_text().replace(\"/\",\"_\").replace(\"\\/\",\"_\")\n",
    "    links.append([title,href])"
   ]
  },
  {
   "cell_type": "code",
   "execution_count": null,
   "id": "44806ba2",
   "metadata": {},
   "outputs": [],
   "source": []
  },
  {
   "cell_type": "code",
   "execution_count": 42,
   "id": "6a4bf093",
   "metadata": {},
   "outputs": [],
   "source": [
    "# print(links[0:2])\n",
    "for v in links:\n",
    "    resp = requests.get(v[1])\n",
    "    with open(v[0]+\".lrc\",\"wb\") as file:\n",
    "        file.write(resp.content)\n",
    "# resp = requests.get(links[0][1])\n",
    "# with open(links[0][0]+\".lrc\",\"wb\") as file:\n",
    "#     file.write(resp.content)"
   ]
  }
 ],
 "metadata": {
  "kernelspec": {
   "display_name": "Python 3 (ipykernel)",
   "language": "python",
   "name": "python3"
  },
  "language_info": {
   "codemirror_mode": {
    "name": "ipython",
    "version": 3
   },
   "file_extension": ".py",
   "mimetype": "text/x-python",
   "name": "python",
   "nbconvert_exporter": "python",
   "pygments_lexer": "ipython3",
   "version": "3.10.6"
  }
 },
 "nbformat": 4,
 "nbformat_minor": 5
}
