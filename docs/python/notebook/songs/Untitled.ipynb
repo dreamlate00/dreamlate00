{
 "cells": [
  {
   "cell_type": "code",
   "execution_count": 19,
   "id": "60045e5d",
   "metadata": {},
   "outputs": [],
   "source": [
    "import os\n",
    "from elasticsearch import Elasticsearch\n",
    "es = Elasticsearch(['http://localhost:9200'])"
   ]
  },
  {
   "cell_type": "code",
   "execution_count": 20,
   "id": "c532a3e6",
   "metadata": {},
   "outputs": [],
   "source": [
    "path = \"G:\\\\code\\\\python3\\\\notebook\\\\梁静茹\"\n",
    "for home, dirs, files in os.walk(path):\n",
    "    for filename in files:\n",
    "        if filename.endswith('.lrc'):\n",
    "            with open(os.path.join(home, filename), 'r',encoding=\"utf-8\") as f:\n",
    "                conten = f.read()\n",
    "                title = filename.replace('.lrc','')\n",
    "                singer = \"梁静茹\"\n",
    "                es.index(index='lrc', body={\"title\": title, \"singer\": singer,\"conten\":conten})"
   ]
  },
  {
   "cell_type": "code",
   "execution_count": 13,
   "id": "1484381e",
   "metadata": {},
   "outputs": [
    {
     "name": "stdout",
     "output_type": "stream",
     "text": [
      "[ti:下一秒钟]\n",
      "[ar:梁静茹]\n",
      "[al:丝路(通往爱的路途)]\n",
      "[by:]\n",
      "[00:01.36]下一秒钟\n",
      "[00:03.36]作曲：Lisa\n",
      "[00:05.36]填词：易家扬\n",
      "[00:07.36]编曲：Martin Tang\n",
      "[00:09.36][01:36.00][04:45.20]梁静茹-下一秒钟\n",
      "[00:11.36][04:50.12]www.lrcgeci.com小王子QQ122121036\n",
      "[00:13.57][01:39.96]Na……\n",
      "[00:24.14][02:55.00]你常说爱情很麻烦的\n",
      "[00:29.85][03:01.17]你常说思念是折磨\n",
      "[00:35.48][03:06.90]你常说永远是什么呢\n",
      "[00:42.06][03:13.69]你常说你不晓得\n",
      "[00:47.72][03:19.13]因为我们都是流浪者\n",
      "[00:52.70][03:24.04]也舍不得被爱情给牢牢绑着\n",
      "[01:00.37]谁敢说孤单是可怜的\n",
      "[01:06.49]谁敢说明天就好了\n",
      "[01:12.21]谁敢说未来是什么呢\n",
      "[01:18.76]谁敢说会有以后\n",
      "[01:24.53]地球还是不停转动着\n",
      "[01:29.46]天南地北你要好好的\n",
      "[02:03.50][02:28.11]下一秒钟的事情\n",
      "[02:05.81]有谁知道会哪里去\n",
      "[02:10.05]爱情有些时候是真的没道理\n",
      "[02:14.60]老天爷假如允许可不可以\n",
      "[02:19.22]让我在你心里上演爱的续集\n",
      "[02:30.55]也许没有你的回忆\n",
      "[02:34.66]为什么我越走越远越想你\n",
      "[02:39.64]而流浪者的天气晴时多云\n",
      "[02:44.15]我想再说一句我爱你\n",
      "[03:31.09]yeah……\n",
      "[03:35.78]oh…Baby\n",
      "[03:45.47][04:08.90]oh……Na……\n",
      "[03:56.76]wu oh……yeah……Na\n"
     ]
    }
   ],
   "source": [
    "with open('G:\\\\code\\\\python3\\\\notebook\\\\梁静茹\\\\下一秒钟.lrc', 'r',encoding=\"utf-8\") as f:\n",
    "    print(f.read())\t"
   ]
  }
 ],
 "metadata": {
  "kernelspec": {
   "display_name": "Python 3 (ipykernel)",
   "language": "python",
   "name": "python3"
  },
  "language_info": {
   "codemirror_mode": {
    "name": "ipython",
    "version": 3
   },
   "file_extension": ".py",
   "mimetype": "text/x-python",
   "name": "python",
   "nbconvert_exporter": "python",
   "pygments_lexer": "ipython3",
   "version": "3.10.6"
  }
 },
 "nbformat": 4,
 "nbformat_minor": 5
}
