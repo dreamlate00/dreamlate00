{
 "cells": [
  {
   "cell_type": "code",
   "execution_count": 1,
   "id": "c6d89b52",
   "metadata": {},
   "outputs": [
    {
     "name": "stdout",
     "output_type": "stream",
     "text": [
      "48656c6c6f2c20576f726c6421\n"
     ]
    }
   ],
   "source": [
    "import binascii\n",
    "\n",
    "def encode_to_hex(string):\n",
    "    encoded_bytes = string.encode('utf-8')\n",
    "    hex_string = binascii.hexlify(encoded_bytes).decode('utf-8')\n",
    "    return hex_string\n",
    "\n",
    "# 示例用法\n",
    "input_string = \"Hello, World!\"\n",
    "encoded_string = encode_to_hex(input_string)\n",
    "print(encoded_string)"
   ]
  }
 ],
 "metadata": {
  "kernelspec": {
   "display_name": "Python 3 (ipykernel)",
   "language": "python",
   "name": "python3"
  },
  "language_info": {
   "codemirror_mode": {
    "name": "ipython",
    "version": 3
   },
   "file_extension": ".py",
   "mimetype": "text/x-python",
   "name": "python",
   "nbconvert_exporter": "python",
   "pygments_lexer": "ipython3",
   "version": "3.10.6"
  }
 },
 "nbformat": 4,
 "nbformat_minor": 5
}
