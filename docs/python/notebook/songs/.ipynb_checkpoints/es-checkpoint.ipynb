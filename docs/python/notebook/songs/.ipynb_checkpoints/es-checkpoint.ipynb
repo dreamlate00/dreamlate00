{
 "cells": [
  {
   "cell_type": "code",
   "execution_count": 2,
   "id": "72033f37",
   "metadata": {},
   "outputs": [],
   "source": [
    "from elasticsearch import Elasticsearch"
   ]
  },
  {
   "cell_type": "code",
   "execution_count": 3,
   "id": "4b6646ff",
   "metadata": {},
   "outputs": [],
   "source": [
    "es = Elasticsearch(['http://localhost:9200'])"
   ]
  },
  {
   "cell_type": "code",
   "execution_count": 4,
   "id": "c904d6aa",
   "metadata": {},
   "outputs": [
    {
     "data": {
      "text/plain": [
       "'yellow open twitter                         -EfPMNJMRqClZve8PagZVA 1 1 100    0  42.5kb  42.5kb\\ngreen  open .apm-custom-link                ta6ASZzHSxuo6BFgsN4D0w 1 0   0    0    208b    208b\\ngreen  open .kibana-event-log-7.13.4-000004 XuTt2ZNWSBKMAsBwGBfoKw 1 0   0    0    208b    208b\\ngreen  open .kibana-event-log-7.13.4-000003 NapY2iveRWOcaMSwpCpr_A 1 0   0    0    208b    208b\\ngreen  open .kibana-event-log-7.13.4-000002 0GJVaGoIRI2idddm8vhMuw 1 0   0    0    208b    208b\\ngreen  open .apm-agent-configuration        hwSOfvoRQiyX7WcpmKbZSw 1 0   0    0    208b    208b\\ngreen  open .kibana-event-log-7.13.4-000005 44UHty02QI-E91sv5vBSSQ 1 0   1    0   5.6kb   5.6kb\\nyellow open lrc                             YBPerYghRqutyYYp6WiPSw 1 1 527    0   1.1mb   1.1mb\\ngreen  open .kibana_7.13.4_001              CgKjAPOURvK5L5JpLVbGow 1 0  37   51   2.1mb   2.1mb\\ngreen  open .kibana_task_manager_7.13.4_001 BHo1GLUxTGWf2AeLBM3omQ 1 0  10 4067 839.3kb 839.3kb\\ngreen  open .tasks                          QJxeCw7FTGOQUznj677Ksg 1 0   4    0  21.3kb  21.3kb\\n'"
      ]
     },
     "execution_count": 4,
     "metadata": {},
     "output_type": "execute_result"
    }
   ],
   "source": [
    "es.cat.indices(pretty=True)"
   ]
  },
  {
   "cell_type": "code",
   "execution_count": 12,
   "id": "d871b73a",
   "metadata": {},
   "outputs": [
    {
     "data": {
      "text/plain": [
       "'winlogbeat-7.13.3-2022.11.07-000005 0 p STARTED         0    208b 127.0.0.1 node-1\\n.ds-ilm-history-5-2022.08.19-000010 0 p STARTED                   127.0.0.1 node-1\\ntest-data                           0 p STARTED     10000   1.2mb 127.0.0.1 node-1\\n.apm-custom-link                    0 p STARTED         0    208b 127.0.0.1 node-1\\ngumda_seed                          0 p STARTED         5   4.2kb 127.0.0.1 node-1\\n.kibana-event-log-7.13.4-000010     0 p STARTED         4  21.7kb 127.0.0.1 node-1\\n.kibana-event-log-7.13.4-000012     0 p STARTED         2  10.9kb 127.0.0.1 node-1\\nchina-area                          0 p STARTED     46890   5.6mb 127.0.0.1 node-1\\n.apm-agent-configuration            0 p STARTED         0    208b 127.0.0.1 node-1\\ngunda                               2 p STARTED         3  13.6kb 127.0.0.1 node-1\\ngunda                               2 r UNASSIGNED                          \\ngunda                               2 r UNASSIGNED                          \\ngunda                               2 r UNASSIGNED                          \\ngunda                               1 p STARTED         0    208b 127.0.0.1 node-1\\ngunda                               1 r UNASSIGNED                          \\ngunda                               1 r UNASSIGNED                          \\ngunda                               1 r UNASSIGNED                          \\ngunda                               0 p STARTED         0    208b 127.0.0.1 node-1\\ngunda                               0 r UNASSIGNED                          \\ngunda                               0 r UNASSIGNED                          \\ngunda                               0 r UNASSIGNED                          \\n.ds-ilm-history-5-2022.09.23-000011 0 p STARTED                   127.0.0.1 node-1\\n.kibana_task_manager_7.13.4_001     0 p STARTED        10 674.7kb 127.0.0.1 node-1\\nwinlogbeat-7.13.3-2022.06.09-000001 0 p STARTED    171376   104mb 127.0.0.1 node-1\\nmovies                              0 p STARTED      9743   1.3mb 127.0.0.1 node-1\\nmovies                              0 r UNASSIGNED                          \\nwinlogbeat-7.13.3-2022.09.23-000004 0 p STARTED         0    208b 127.0.0.1 node-1\\nwinlogbeat-7.13.3-2022.07.09-000002 0 p STARTED    108811  66.9mb 127.0.0.1 node-1\\nchina                               0 p STARTED       460 120.6kb 127.0.0.1 node-1\\nchina                               0 r UNASSIGNED                          \\n.kibana_7.13.4_001                  0 p STARTED       677   2.3mb 127.0.0.1 node-1\\n.tasks                              0 p STARTED       131  66.1kb 127.0.0.1 node-1\\nkibana_sample_data_flights          0 p STARTED     13059   5.5mb 127.0.0.1 node-1\\n.kibana-event-log-7.13.4-000011     0 p STARTED         1   5.6kb 127.0.0.1 node-1\\nmovies_0                            0 p STARTED       662 819.4kb 127.0.0.1 node-1\\nmovies_0                            0 r UNASSIGNED                          \\n.ds-ilm-history-5-2022.11.07-000012 0 p STARTED                   127.0.0.1 node-1\\n.async-search                       0 p STARTED         0 246.1kb 127.0.0.1 node-1\\nwinlogbeat-7.13.3-2022.08.10-000003 0 p STARTED     48475  37.3mb 127.0.0.1 node-1\\n'"
      ]
     },
     "execution_count": 12,
     "metadata": {},
     "output_type": "execute_result"
    }
   ],
   "source": [
    "es.cat.nodes()"
   ]
  },
  {
   "cell_type": "code",
   "execution_count": 17,
   "id": "0475318a",
   "metadata": {},
   "outputs": [
    {
     "data": {
      "text/plain": [
       "'.management-beats                        [.management-beats]                          0          70000   \\n.ml-state                                [.ml-state*]                                 0          7130499 \\nwinlogbeat-7.13.3                        [winlogbeat-7.13.3-*]                        1                  \\nlog_ilm_template                         [ilm_index-*]                                0                  \\ntemplate_1                               [te*]                                        0                  \\nmetrics_template                         [metrics*]                                   0                  \\n.monitoring-beats                        [.monitoring-beats-7-*]                      0          7120099 \\n.ml-anomalies-                           [.ml-anomalies-*]                            0          7130499 \\n.kibana-event-log-7.13.4-template        [.kibana-event-log-7.13.4-*]                 0                  \\n.monitoring-alerts-7                     [.monitoring-alerts-7]                       0          7120099 \\n.monitoring-es                           [.monitoring-es-7-*]                         0          7120099 \\n.monitoring-kibana                       [.monitoring-kibana-7-*]                     0          7120099 \\n.ml-stats                                [.ml-stats-*]                                0          7130499 \\nlogstash                                 [logstash-*]                                 0          60001   \\n.ml-notifications-000001                 [.ml-notifications-000001]                   0          7130499 \\n.transform-notifications-000002          [.transform-notifications-*]                 0          7130499 \\n.monitoring-logstash                     [.monitoring-logstash-7-*]                   0          7120099 \\nfilebeat-7.13.4                          [filebeat-7.13.4-*]                          1                  \\nsw_meter-avglabeled                      [sw_meter-avglabeled-*]                      0                  []\\nsw_metrics-sum                           [sw_metrics-sum-*]                           0                  []\\nsw_profile_task_log                      [sw_profile_task_log-*]                      0                  []\\nsw_service_traffic                       [sw_service_traffic-*]                       0                  []\\nsw_alarm_record                          [sw_alarm_record-*]                          0                  []\\nsw_endpoint_traffic                      [sw_endpoint_traffic-*]                      0                  []\\nsw_metrics-percentile                    [sw_metrics-percentile-*]                    0                  []\\nsw_metrics-apdex                         [sw_metrics-apdex-*]                         0                  []\\nsw_meter-avg                             [sw_meter-avg-*]                             0                  []\\n.slm-history                             [.slm-history-5*]                            2147483647 5       []\\nsw_service_instance_relation_client_side [sw_service_instance_relation_client_side-*] 0                  []\\nsw_segment                               [sw_segment-*]                               0                  []\\nsw_metrics-cpm                           [sw_metrics-cpm-*]                           0                  []\\nlogs                                     [logs-*-*]                                   100        0       [logs-mappings, logs-settings]\\nsw_metrics-rate                          [sw_metrics-rate-*]                          0                  []\\nsw_log                                   [sw_log-*]                                   0                  []\\nsw_metrics-doubleavg                     [sw_metrics-doubleavg-*]                     0                  []\\nsw_endpoint_relation_server_side         [sw_endpoint_relation_server_side-*]         0                  []\\nsw_service_relation_client_side          [sw_service_relation_client_side-*]          0                  []\\nsw_metrics-max                           [sw_metrics-max-*]                           0                  []\\nsw_service_relation_server_side          [sw_service_relation_server_side-*]          0                  []\\nsw_instance_traffic                      [sw_instance_traffic-*]                      0                  []\\nsynthetics                               [synthetics-*-*]                             100        0       [synthetics-mappings, synthetics-settings]\\nsw_metrics-longavg                       [sw_metrics-longavg-*]                       0                  []\\nsw_metrics-count                         [sw_metrics-count-*]                         0                  []\\nsw_profile_task_segment_snapshot         [sw_profile_task_segment_snapshot-*]         0                  []\\nsw_zipkin_span                           [sw_zipkin_span-*]                           0                  []\\nsw_service_instance_relation_server_side [sw_service_instance_relation_server_side-*] 0                  []\\n.watch-history-13                        [.watcher-history-13*]                       2147483647 13      []\\nsw_profile_task                          [sw_profile_task-*]                          0                  []\\nsw_browser_error_log                     [sw_browser_error_log-*]                     0                  []\\nilm-history                              [ilm-history-5*]                             2147483647 5       []\\nsw_events                                [sw_events-*]                                0                  []\\nsw_metrics-percent                       [sw_metrics-percent-*]                       0                  []\\nmetrics                                  [metrics-*-*]                                100        0       [metrics-mappings, metrics-settings]\\nsw_top_n_database_statement              [sw_top_n_database_statement-*]              0                  []\\nsw_metrics-histogram                     [sw_metrics-histogram-*]                     0                  []\\nsw_network_address_alias                 [sw_network_address_alias-*]                 0                  []\\n'"
      ]
     },
     "execution_count": 17,
     "metadata": {},
     "output_type": "execute_result"
    }
   ],
   "source": [
    "es.cat.templates()"
   ]
  }
 ],
 "metadata": {
  "kernelspec": {
   "display_name": "Python 3 (ipykernel)",
   "language": "python",
   "name": "python3"
  },
  "language_info": {
   "codemirror_mode": {
    "name": "ipython",
    "version": 3
   },
   "file_extension": ".py",
   "mimetype": "text/x-python",
   "name": "python",
   "nbconvert_exporter": "python",
   "pygments_lexer": "ipython3",
   "version": "3.10.6"
  }
 },
 "nbformat": 4,
 "nbformat_minor": 5
}
