{
 "cells": [
  {
   "cell_type": "code",
   "execution_count": 28,
   "id": "eafb3d93",
   "metadata": {},
   "outputs": [],
   "source": [
    "import json"
   ]
  },
  {
   "cell_type": "code",
   "execution_count": 29,
   "id": "9bd0335e",
   "metadata": {},
   "outputs": [],
   "source": [
    "# 数据准备\n",
    "data = {\n",
    "    \"a\":\"message\",\n",
    "    \"b\":1,\n",
    "    \"c\":1.2,\n",
    "    \"d\":\"页面导航\"\n",
    "}\n",
    "with open(\"test_read_from_json_file.json\", 'w', encoding='utf-8') as f:\n",
    "        json.dump(data, f,ensure_ascii=False,indent=4)"
   ]
  },
  {
   "cell_type": "code",
   "execution_count": 21,
   "id": "34b4d848",
   "metadata": {},
   "outputs": [],
   "source": [
    "with open(\"write_to_json_file.json\", 'w', encoding='utf-8') as f:\n",
    "        json.dump(data, f)"
   ]
  },
  {
   "cell_type": "code",
   "execution_count": 27,
   "id": "51d7414c",
   "metadata": {},
   "outputs": [],
   "source": [
    "# 写入中文会显示ascii编码，转成中文\n",
    "with open(\"write_to_json_file.json\", 'w', encoding='utf-8') as f:\n",
    "        json.dump(data, f,ensure_ascii=False)"
   ]
  },
  {
   "cell_type": "code",
   "execution_count": 26,
   "id": "a1dd1aed",
   "metadata": {},
   "outputs": [],
   "source": [
    "# 增加缩进\n",
    "with open(\"write_to_json_file.json\", 'w', encoding='utf-8') as f:\n",
    "        json.dump(data, f,ensure_ascii=False,indent=4)"
   ]
  },
  {
   "cell_type": "code",
   "execution_count": null,
   "id": "1f010618",
   "metadata": {},
   "outputs": [],
   "source": []
  },
  {
   "cell_type": "code",
   "execution_count": null,
   "id": "1a9e365e",
   "metadata": {},
   "outputs": [],
   "source": []
  }
 ],
 "metadata": {
  "kernelspec": {
   "display_name": "Python 3 (ipykernel)",
   "language": "python",
   "name": "python3"
  },
  "language_info": {
   "codemirror_mode": {
    "name": "ipython",
    "version": 3
   },
   "file_extension": ".py",
   "mimetype": "text/x-python",
   "name": "python",
   "nbconvert_exporter": "python",
   "pygments_lexer": "ipython3",
   "version": "3.10.6"
  }
 },
 "nbformat": 4,
 "nbformat_minor": 5
}
