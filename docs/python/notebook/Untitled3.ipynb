{
 "cells": [
  {
   "cell_type": "code",
   "execution_count": 1,
   "id": "8638a5aa",
   "metadata": {},
   "outputs": [],
   "source": [
    "import os\n",
    "import random\n",
    "import uuid\n",
    "from datetime import datetime"
   ]
  },
  {
   "cell_type": "code",
   "execution_count": 2,
   "id": "2c51638b",
   "metadata": {},
   "outputs": [],
   "source": [
    "# 生成测试数据\n",
    "def build_data(file_path, data_count):\n",
    "    if os.path.exists(file_path):\n",
    "        os.remove(file_path)\n",
    "\n",
    "    file = open(file_path, 'w')\n",
    "    start = datetime.now()\n",
    "    print('数据生成中')\n",
    "    for var in range(data_count):\n",
    "        r = str(random.randrange(0,255))\n",
    "        g = str(random.randrange(0,255))\n",
    "        b = str(random.randrange(0,255))\n",
    "        uid = str(uuid.uuid4())\n",
    "        suid = ''.join(uid.split('-'))\n",
    "        file.writelines(str(var)+\" \"+r+\" \"+g +\" \"+b+ \" \"+uid+ \" \"+suid)\n",
    "        file.write('\\n')\n",
    "    end = datetime.now()\n",
    "    print('耗时:'+str((end-start).seconds)+\"s\")"
   ]
  },
  {
   "cell_type": "code",
   "execution_count": 3,
   "id": "cbe5a7e3",
   "metadata": {},
   "outputs": [
    {
     "name": "stdout",
     "output_type": "stream",
     "text": [
      "数据生成中\n",
      "耗时:0s\n"
     ]
    }
   ],
   "source": [
    "build_data('user.txt',5)"
   ]
  }
 ],
 "metadata": {
  "kernelspec": {
   "display_name": "Python 3 (ipykernel)",
   "language": "python",
   "name": "python3"
  },
  "language_info": {
   "codemirror_mode": {
    "name": "ipython",
    "version": 3
   },
   "file_extension": ".py",
   "mimetype": "text/x-python",
   "name": "python",
   "nbconvert_exporter": "python",
   "pygments_lexer": "ipython3",
   "version": "3.10.6"
  }
 },
 "nbformat": 4,
 "nbformat_minor": 5
}
