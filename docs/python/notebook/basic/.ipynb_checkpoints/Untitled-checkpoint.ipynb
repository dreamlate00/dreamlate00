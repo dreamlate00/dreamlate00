{
 "cells": [
  {
   "cell_type": "code",
   "execution_count": 1,
   "id": "6de9af6e",
   "metadata": {},
   "outputs": [
    {
     "name": "stdout",
     "output_type": "stream",
     "text": [
      "hello, world!\n",
      "你好 世界\n",
      "hello, world!goodbye, world!\n"
     ]
    }
   ],
   "source": [
    "print('hello, world!')\n",
    "print('你好', '世界')\n",
    "print('hello', 'world', sep=', ', end='!')\n",
    "print('goodbye, world', end='!\\n')"
   ]
  },
  {
   "cell_type": "code",
   "execution_count": null,
   "id": "5d3394fd",
   "metadata": {},
   "outputs": [],
   "source": []
  }
 ],
 "metadata": {
  "kernelspec": {
   "display_name": "Python 3 (ipykernel)",
   "language": "python",
   "name": "python3"
  },
  "language_info": {
   "codemirror_mode": {
    "name": "ipython",
    "version": 3
   },
   "file_extension": ".py",
   "mimetype": "text/x-python",
   "name": "python",
   "nbconvert_exporter": "python",
   "pygments_lexer": "ipython3",
   "version": "3.10.6"
  }
 },
 "nbformat": 4,
 "nbformat_minor": 5
}
